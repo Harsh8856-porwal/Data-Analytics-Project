{
 "cells": [
  {
   "cell_type": "code",
   "execution_count": 1,
   "id": "78cccfe4-bb5f-4277-a3db-dda1d3e311e9",
   "metadata": {},
   "outputs": [],
   "source": [
    "import pandas as pd"
   ]
  },
  {
   "cell_type": "code",
   "execution_count": 2,
   "id": "373d4537-76a2-4772-ad0e-ce43c05e6a91",
   "metadata": {},
   "outputs": [],
   "source": [
    "df = pd.read_excel(\"swiggydata.xlsx\")"
   ]
  },
  {
   "cell_type": "code",
   "execution_count": 3,
   "id": "5534fa13-616d-4bf7-b629-bf2cc13c6501",
   "metadata": {},
   "outputs": [
    {
     "name": "stdout",
     "output_type": "stream",
     "text": [
      "      Customer  Rating offline/online  Amount     City Restaurent Name  vote\n",
      "0        Harsh     3.5        offline     500  Lucknow            Bite   400\n",
      "1        Sahil     3.4         online     550  Lucknow        rangreja   405\n",
      "2       Raghav     4.8        offline     660  Lucknow           Savor   403\n",
      "3        Ayush     4.6         online     650  Lucknow      burgerking   500\n",
      "4      Akansha     4.5        offline     450  Lucknow          Grillz   444\n",
      "5       sakshi     4.4         online     358  Lucknow        rangreja   500\n",
      "6       Anisha     3.2         online     360  Lucknow           Spice   400\n",
      "7      Prabhat     3.3         online     650  Lucknow      burgerking   405\n",
      "8        Richa     3.9        offline     650  Lucknow           Feast   403\n",
      "9         Uday     3.9         online     640  Lucknow      burgerking   500\n",
      "10      Lakhan     3.9        offline     630  Lucknow            Bite   444\n",
      "11     Shravan     3.9         online     650  Lucknow      burgerking   400\n",
      "12        Riya     4.4         online     340  Lucknow           Savor   420\n",
      "13     shivani     3.9         online     740  Lucknow        rangreja   400\n",
      "14     Deeksha     4.9         online     740  Lucknow          Grillz   405\n",
      "15     Samdeep     3.9        offline     710  Lucknow           glizz   403\n",
      "16        Atul     3.4        offline     750  Lucknow           Spice   500\n",
      "17     krishna     3.8        offline     850  Lucknow        rangreja   444\n",
      "18       Priya     3.7         online     960  Lucknow           Feast   500\n",
      "19       Kunnu     3.5        offline     800  Lucknow      burgerking   250\n",
      "20     Harshit     3.6         online     250  Lucknow            Fork   300\n",
      "21      Aditya     5.0         online     500  Lucknow        rangreja   400\n",
      "22        Uday     4.9        offline     400  Lucknow           Munch   405\n",
      "23        Aman     4.6         online     400  Lucknow      burgerking   403\n",
      "24       Raman     4.2         online     400  Lucknow            Dine   500\n",
      "25   Indrajeet     4.3        offline     400  Lucknow        rangreja   444\n",
      "26      Navven     4.5         online     800  Lucknow            Zest   300\n",
      "27        Arun     4.1         online     800  Lucknow        rangreja   350\n",
      "28     shivani     4.2        offline     800  Lucknow           Crave   400\n",
      "29       Shiva     4.3         online     800  Lucknow      burgerking   405\n",
      "30      Mayank     4.2        offline     550  Lucknow           Flame   403\n",
      "31       Mukut     4.5         online     550  Lucknow      burgerking   500\n",
      "32        Aman     4.6        offline     550  Lucknow           Chomp   444\n",
      "33       Arpit     4.5        offline     550  Lucknow        rangreja   555\n",
      "34   Vishvnath     4.6         online     440  Lucknow           Tasty   600\n",
      "35       Mohit     4.1         online     840  Lucknow        rangreja   400\n",
      "36  Rahavendra     4.2         online     441  Lucknow          Sizzle   405\n",
      "37       Raman     3.1        offline     620  Lucknow      burgerking   403\n",
      "38      Aditya     3.5        offline     442  Lucknow             Nom   500\n"
     ]
    }
   ],
   "source": [
    "print(df)"
   ]
  },
  {
   "cell_type": "code",
   "execution_count": null,
   "id": "405611b8-0ed1-41cc-8cab-30208bbdf330",
   "metadata": {},
   "outputs": [],
   "source": []
  }
 ],
 "metadata": {
  "kernelspec": {
   "display_name": "Python 3 (ipykernel)",
   "language": "python",
   "name": "python3"
  },
  "language_info": {
   "codemirror_mode": {
    "name": "ipython",
    "version": 3
   },
   "file_extension": ".py",
   "mimetype": "text/x-python",
   "name": "python",
   "nbconvert_exporter": "python",
   "pygments_lexer": "ipython3",
   "version": "3.13.0"
  }
 },
 "nbformat": 4,
 "nbformat_minor": 5
}
